{
 "cells": [
  {
   "attachments": {},
   "cell_type": "markdown",
   "id": "58f8b0ca",
   "metadata": {},
   "source": [
    "# Ghost Lagrangian"
   ]
  },
  {
   "cell_type": "code",
   "execution_count": 1,
   "id": "e4eabe5a",
   "metadata": {},
   "outputs": [],
   "source": [
    "import sympy"
   ]
  },
  {
   "cell_type": "markdown",
   "id": "5c61916e",
   "metadata": {},
   "source": [
    "量の定義"
   ]
  },
  {
   "cell_type": "code",
   "execution_count": 2,
   "id": "d5f726cf",
   "metadata": {},
   "outputs": [],
   "source": [
    "g, tw, m_W = sympy.symbols(\"g, \\\\theta_w, m_W\")\n",
    "h = sympy.symbols(\"h\")\n",
    "\n",
    "W_p, W_m, Z_0, A = sympy.symbols(\"W^+, W^-, Z^0, A\")\n",
    "\n",
    "phi_p, phi_m, phi_3 = sympy.symbols(\"\\\\phi^+, \\\\phi^-, \\\\phi^3\")\n",
    "\n",
    "c_p, c_m, c_Z, c_A = sympy.symbols(\"c^+, c^-, c^Z, c^A\")\n",
    "_c_p, _c_m, _c_Z, _c_A = sympy.symbols(\"\\\\bar{c}^+, \\\\bar{c}^-, \\\\bar{c}^Z, \\\\bar{c}^A\")\n",
    "\n",
    "v = 2*m_W / g\n",
    "gp = g * sympy.tan(tw)\n",
    "\n",
    "A_1 = (W_p + W_m) / sympy.sqrt(2)\n",
    "A_2 = sympy.I * (W_p - W_m) / sympy.sqrt(2)\n",
    "A_3 = A * sympy.sin(tw) + Z_0 * sympy.cos(tw)\n",
    "A_Y = A * sympy.cos(tw) - Z_0 * sympy.sin(tw) # = B\n",
    "\n",
    "phi_1 = (phi_p+phi_m) / sympy.sqrt(2)\n",
    "phi_2 = -sympy.I * (phi_p-phi_m) / sympy.sqrt(2)\n",
    "\n",
    "c_1 = (c_p+c_m) / sympy.sqrt(2)\n",
    "c_2 = -sympy.I * (c_p-c_m) / sympy.sqrt(2)\n",
    "_c_1 = (_c_p+_c_m) / sympy.sqrt(2)\n",
    "_c_2 = sympy.I * (_c_p-_c_m) / sympy.sqrt(2)\n",
    "\n",
    "c_3 = c_Z * sympy.cos(tw) + c_A * sympy.sin(tw)\n",
    "c_Y = c_A * sympy.cos(tw) - c_Z * sympy.sin(tw)\n",
    "_c_3 = _c_Z * sympy.cos(tw) + _c_A * sympy.sin(tw)\n",
    "_c_Y = _c_A * sympy.cos(tw) - _c_Z * sympy.sin(tw)\n",
    "\n",
    "phi_0 = sympy.Matrix([0, 0, 0, v])\n",
    "phi = sympy.Matrix([phi_1, phi_2, phi_3, v+h])\n",
    "c = sympy.Matrix([c_1, c_2, c_3, c_Y])\n",
    "_c = sympy.Matrix([_c_1, _c_2, _c_3, _c_Y])\n",
    "\n",
    "T_1 = 1/2 * sympy.Matrix([\n",
    "[0, 0, 0, 1],\n",
    "[0, 0, -1, 0],\n",
    "[0, 1, 0, 0],\n",
    "[-1, 0, 0, 0]])\n",
    "\n",
    "T_2 = 1/2 * sympy.Matrix([\n",
    "[0, 0, 1, 0],\n",
    "[0, 0, 0, 1],\n",
    "[-1, 0, 0, 0],\n",
    "[0, -1, 0, 0]])\n",
    "\n",
    "T_3 = 1/2 * sympy.Matrix([\n",
    "[0, -1, 0, 0],\n",
    "[1, 0, 0, 0],\n",
    "[0, 0, 0, -1],\n",
    "[0, 0, 1, 0]])\n",
    "\n",
    "T_Y = 1/2 * sympy.Matrix([\n",
    "[0, -1, 0, 0],\n",
    "[1, 0, 0, 0],\n",
    "[0, 0, 0, 1],\n",
    "[0, 0, -1, 0]])\n",
    "\n",
    "T = [T_1, T_2, T_3, T_Y]"
   ]
  },
  {
   "attachments": {},
   "cell_type": "markdown",
   "id": "66d64412",
   "metadata": {},
   "source": [
    "## Gauge boson\n",
    "特に構造定数$[T^a, T^b] = f^{abc} T^c$は$f^{12Y} = 1$のみ．\n",
    "Lagrangianは$g^b f^{abc} (\\partial^\\mu\\bar{c}^a) A^b_\\mu c^c$"
   ]
  },
  {
   "cell_type": "code",
   "execution_count": 3,
   "id": "4feb9716",
   "metadata": {},
   "outputs": [],
   "source": [
    "L_ghost_gauge = - (g * _c_1 * A_2 * c_Y) - (gp * _c_2 * A_Y * c_1) - (g * _c_Y * A_1 * c_2) + (g * _c_Y * A_2 * c_1) + (g * _c_2 * A_1 * c_Y) + (gp * _c_1 * A_Y * c_2)\n",
    "L_ghost_gauge = sympy.expand(L_ghost_gauge)"
   ]
  },
  {
   "cell_type": "code",
   "execution_count": 4,
   "id": "92d06cdc",
   "metadata": {},
   "outputs": [
    {
     "data": {
      "text/latex": [
       "$\\displaystyle - i A \\bar{c}^+ c^{+} g \\cos{\\left(\\theta_{w} \\right)} \\tan{\\left(\\theta_{w} \\right)} + i Z^{0} \\bar{c}^+ c^{+} g \\sin{\\left(\\theta_{w} \\right)} \\tan{\\left(\\theta_{w} \\right)}$"
      ],
      "text/plain": [
       "-I*A*\\bar{c}^+*c^+*g*cos(\\theta_w)*tan(\\theta_w) + I*Z^0*\\bar{c}^+*c^+*g*sin(\\theta_w)*tan(\\theta_w)"
      ]
     },
     "metadata": {},
     "output_type": "display_data"
    },
    {
     "data": {
      "text/latex": [
       "$\\displaystyle i A \\bar{c}^- c^{-} g \\cos{\\left(\\theta_{w} \\right)} \\tan{\\left(\\theta_{w} \\right)} - i Z^{0} \\bar{c}^- c^{-} g \\sin{\\left(\\theta_{w} \\right)} \\tan{\\left(\\theta_{w} \\right)}$"
      ],
      "text/plain": [
       "I*A*\\bar{c}^-*c^-*g*cos(\\theta_w)*tan(\\theta_w) - I*Z^0*\\bar{c}^-*c^-*g*sin(\\theta_w)*tan(\\theta_w)"
      ]
     },
     "metadata": {},
     "output_type": "display_data"
    },
    {
     "data": {
      "text/latex": [
       "$\\displaystyle 0$"
      ],
      "text/plain": [
       "0"
      ]
     },
     "metadata": {},
     "output_type": "display_data"
    },
    {
     "data": {
      "text/latex": [
       "$\\displaystyle 0$"
      ],
      "text/plain": [
       "0"
      ]
     },
     "metadata": {},
     "output_type": "display_data"
    }
   ],
   "source": [
    "Lpp = L_ghost_gauge.coeff(_c_p*c_p) * _c_p * c_p\n",
    "Lmm = L_ghost_gauge.coeff(_c_m*c_m) * _c_m * c_m\n",
    "LZZ = L_ghost_gauge.coeff(_c_Z*c_Z) * _c_Z * c_Z\n",
    "LAA = L_ghost_gauge.coeff(_c_A*c_A) * _c_A * c_A\n",
    "\n",
    "display(sympy.expand(Lpp.simplify()))\n",
    "display(sympy.expand(Lmm.simplify()))\n",
    "display(sympy.expand(LZZ.simplify()))\n",
    "display(sympy.expand(LAA.simplify()))"
   ]
  },
  {
   "cell_type": "code",
   "execution_count": 5,
   "id": "cc093752",
   "metadata": {},
   "outputs": [
    {
     "data": {
      "text/latex": [
       "$\\displaystyle 0$"
      ],
      "text/plain": [
       "0"
      ]
     },
     "metadata": {},
     "output_type": "display_data"
    },
    {
     "data": {
      "text/latex": [
       "$\\displaystyle i W^{-} \\bar{c}^+ c^{A} g \\cos{\\left(\\theta_{w} \\right)}$"
      ],
      "text/plain": [
       "I*W^-*\\bar{c}^+*c^A*g*cos(\\theta_w)"
      ]
     },
     "metadata": {},
     "output_type": "display_data"
    },
    {
     "data": {
      "text/latex": [
       "$\\displaystyle - i W^{-} \\bar{c}^+ c^{Z} g \\sin{\\left(\\theta_{w} \\right)}$"
      ],
      "text/plain": [
       "-I*W^-*\\bar{c}^+*c^Z*g*sin(\\theta_w)"
      ]
     },
     "metadata": {},
     "output_type": "display_data"
    }
   ],
   "source": [
    "Lpm = L_ghost_gauge.coeff(_c_p*c_m) * _c_p * c_m\n",
    "LpA = L_ghost_gauge.coeff(_c_p*c_A) * _c_p * c_A\n",
    "LpZ = L_ghost_gauge.coeff(_c_p*c_Z) * _c_p * c_Z\n",
    "\n",
    "display(sympy.expand(Lpm.simplify()))\n",
    "display(sympy.expand(LpA.simplify()))\n",
    "display(sympy.expand(LpZ.simplify()))"
   ]
  },
  {
   "cell_type": "code",
   "execution_count": 6,
   "id": "df5bb1d9",
   "metadata": {},
   "outputs": [
    {
     "data": {
      "text/latex": [
       "$\\displaystyle 0$"
      ],
      "text/plain": [
       "0"
      ]
     },
     "metadata": {},
     "output_type": "display_data"
    },
    {
     "data": {
      "text/latex": [
       "$\\displaystyle - i W^{+} \\bar{c}^- c^{A} g \\cos{\\left(\\theta_{w} \\right)}$"
      ],
      "text/plain": [
       "-I*W^+*\\bar{c}^-*c^A*g*cos(\\theta_w)"
      ]
     },
     "metadata": {},
     "output_type": "display_data"
    },
    {
     "data": {
      "text/latex": [
       "$\\displaystyle i W^{+} \\bar{c}^- c^{Z} g \\sin{\\left(\\theta_{w} \\right)}$"
      ],
      "text/plain": [
       "I*W^+*\\bar{c}^-*c^Z*g*sin(\\theta_w)"
      ]
     },
     "metadata": {},
     "output_type": "display_data"
    }
   ],
   "source": [
    "Lmp = L_ghost_gauge.coeff(_c_m*c_p) * _c_m * c_p\n",
    "LmA = L_ghost_gauge.coeff(_c_m*c_A) * _c_m * c_A\n",
    "LmZ = L_ghost_gauge.coeff(_c_m*c_Z) * _c_m * c_Z\n",
    "\n",
    "display(sympy.expand(Lmp.simplify()))\n",
    "display(sympy.expand(LmA.simplify()))\n",
    "display(sympy.expand(LmZ.simplify()))"
   ]
  },
  {
   "cell_type": "code",
   "execution_count": 7,
   "id": "e35301d8",
   "metadata": {},
   "outputs": [
    {
     "data": {
      "text/latex": [
       "$\\displaystyle - i W^{+} \\bar{c}^Z c^{+} g \\sin{\\left(\\theta_{w} \\right)}$"
      ],
      "text/plain": [
       "-I*W^+*\\bar{c}^Z*c^+*g*sin(\\theta_w)"
      ]
     },
     "metadata": {},
     "output_type": "display_data"
    },
    {
     "data": {
      "text/latex": [
       "$\\displaystyle i W^{-} \\bar{c}^Z c^{-} g \\sin{\\left(\\theta_{w} \\right)}$"
      ],
      "text/plain": [
       "I*W^-*\\bar{c}^Z*c^-*g*sin(\\theta_w)"
      ]
     },
     "metadata": {},
     "output_type": "display_data"
    },
    {
     "data": {
      "text/latex": [
       "$\\displaystyle 0$"
      ],
      "text/plain": [
       "0"
      ]
     },
     "metadata": {},
     "output_type": "display_data"
    }
   ],
   "source": [
    "LZp = L_ghost_gauge.coeff(_c_Z*c_p) * _c_Z * c_p\n",
    "LZm = L_ghost_gauge.coeff(_c_Z*c_m) * _c_Z * c_m\n",
    "LZA = L_ghost_gauge.coeff(_c_Z*c_A) * _c_Z * c_A\n",
    "\n",
    "display(sympy.expand(LZp.simplify()))\n",
    "display(sympy.expand(LZm.simplify()))\n",
    "display(sympy.expand(LZA.simplify()))"
   ]
  },
  {
   "cell_type": "code",
   "execution_count": 8,
   "id": "08785abb",
   "metadata": {},
   "outputs": [
    {
     "data": {
      "text/latex": [
       "$\\displaystyle i W^{+} \\bar{c}^A c^{+} g \\cos{\\left(\\theta_{w} \\right)}$"
      ],
      "text/plain": [
       "I*W^+*\\bar{c}^A*c^+*g*cos(\\theta_w)"
      ]
     },
     "metadata": {},
     "output_type": "display_data"
    },
    {
     "data": {
      "text/latex": [
       "$\\displaystyle - i W^{-} \\bar{c}^A c^{-} g \\cos{\\left(\\theta_{w} \\right)}$"
      ],
      "text/plain": [
       "-I*W^-*\\bar{c}^A*c^-*g*cos(\\theta_w)"
      ]
     },
     "metadata": {},
     "output_type": "display_data"
    },
    {
     "data": {
      "text/latex": [
       "$\\displaystyle 0$"
      ],
      "text/plain": [
       "0"
      ]
     },
     "metadata": {},
     "output_type": "display_data"
    }
   ],
   "source": [
    "LAp = L_ghost_gauge.coeff(_c_A*c_p) * _c_A * c_p\n",
    "LAm = L_ghost_gauge.coeff(_c_A*c_m) * _c_A * c_m\n",
    "LAZ = L_ghost_gauge.coeff(_c_A*c_Z) * _c_A * c_Z\n",
    "\n",
    "display(sympy.expand(LAp.simplify()))\n",
    "display(sympy.expand(LAm.simplify()))\n",
    "display(sympy.expand(LAZ.simplify()))"
   ]
  },
  {
   "attachments": {},
   "cell_type": "markdown",
   "id": "7f64241d",
   "metadata": {},
   "source": [
    "## Goldstone boson"
   ]
  },
  {
   "cell_type": "code",
   "execution_count": 9,
   "id": "198f80c1",
   "metadata": {},
   "outputs": [],
   "source": [
    "M = sympy.Matrix([\n",
    "[0, 0, 0, 0],\n",
    "[0, 0, 0, 0],\n",
    "[0, 0, 0, 0],\n",
    "[0, 0, 0, 0]])\n",
    "\n",
    "for a in range(3):\n",
    "    for b in range(3):\n",
    "        M[a, b] = -g**2 * (T[a]*phi_0).dot(T[b]*phi)\n",
    "    M[a, 3] = -g * gp * (T[a]*phi_0).dot(T[3]*phi)\n",
    "\n",
    "for b in range(3):\n",
    "    M[3, b] = -g * gp * (T[3]*phi_0).dot(T[b]*phi)\n",
    "\n",
    "M[3, 3] = -gp**2 * (T[3]*phi_0).dot(T[3]*phi)\n",
    "\n",
    "L_ghost_goldstone = (_c.T * M * c)[0, 0]\n",
    "L_ghost_goldstone = L_ghost_goldstone.expand()"
   ]
  },
  {
   "cell_type": "code",
   "execution_count": 10,
   "id": "e8dd39c7",
   "metadata": {},
   "outputs": [
    {
     "data": {
      "text/latex": [
       "$\\displaystyle \\frac{i \\bar{c}^+ \\phi^{3} c^{+} g m_{W}}{2} - \\frac{\\bar{c}^+ c^{+} g h m_{W}}{2} - \\bar{c}^+ c^{+} m_{W}^{2}$"
      ],
      "text/plain": [
       "I*\\bar{c}^+*\\phi^3*c^+*g*m_W/2 - \\bar{c}^+*c^+*g*h*m_W/2 - \\bar{c}^+*c^+*m_W**2"
      ]
     },
     "metadata": {},
     "output_type": "display_data"
    },
    {
     "data": {
      "text/latex": [
       "$\\displaystyle - \\frac{i \\bar{c}^- \\phi^{3} c^{-} g m_{W}}{2} - \\frac{\\bar{c}^- c^{-} g h m_{W}}{2} - \\bar{c}^- c^{-} m_{W}^{2}$"
      ],
      "text/plain": [
       "-I*\\bar{c}^-*\\phi^3*c^-*g*m_W/2 - \\bar{c}^-*c^-*g*h*m_W/2 - \\bar{c}^-*c^-*m_W**2"
      ]
     },
     "metadata": {},
     "output_type": "display_data"
    },
    {
     "data": {
      "text/latex": [
       "$\\displaystyle - \\frac{\\bar{c}^Z c^{Z} g h m_{W}}{2 \\cos^{2}{\\left(\\theta_{w} \\right)}} - \\frac{\\bar{c}^Z c^{Z} m_{W}^{2}}{\\cos^{2}{\\left(\\theta_{w} \\right)}}$"
      ],
      "text/plain": [
       "-\\bar{c}^Z*c^Z*g*h*m_W/(2*cos(\\theta_w)**2) - \\bar{c}^Z*c^Z*m_W**2/cos(\\theta_w)**2"
      ]
     },
     "metadata": {},
     "output_type": "display_data"
    },
    {
     "data": {
      "text/latex": [
       "$\\displaystyle 0$"
      ],
      "text/plain": [
       "0"
      ]
     },
     "metadata": {},
     "output_type": "display_data"
    }
   ],
   "source": [
    "Lpp = L_ghost_goldstone.coeff(_c_p*c_p) * _c_p * c_p\n",
    "Lmm = L_ghost_goldstone.coeff(_c_m*c_m) * _c_m * c_m\n",
    "LZZ = L_ghost_goldstone.coeff(_c_Z*c_Z) * _c_Z * c_Z\n",
    "LAA = L_ghost_goldstone.coeff(_c_A*c_A) * _c_A * c_A\n",
    "\n",
    "display(sympy.expand(Lpp.nsimplify()))\n",
    "display(sympy.expand(Lmm.nsimplify()))\n",
    "display(sympy.expand(sympy.simplify(LZZ.nsimplify())))\n",
    "display(sympy.expand(sympy.simplify(LAA.nsimplify())))"
   ]
  },
  {
   "cell_type": "code",
   "execution_count": 11,
   "id": "0180dcdf",
   "metadata": {},
   "outputs": [
    {
     "data": {
      "text/latex": [
       "$\\displaystyle 0$"
      ],
      "text/plain": [
       "0"
      ]
     },
     "metadata": {},
     "output_type": "display_data"
    },
    {
     "data": {
      "text/latex": [
       "$\\displaystyle - \\frac{i \\bar{c}^+ \\phi^{+} c^{A} g m_{W} \\sin{\\left(\\theta_{w} \\right)}}{2} - \\frac{i \\bar{c}^+ \\phi^{+} c^{A} g m_{W} \\cos{\\left(\\theta_{w} \\right)} \\tan{\\left(\\theta_{w} \\right)}}{2}$"
      ],
      "text/plain": [
       "-I*\\bar{c}^+*\\phi^+*c^A*g*m_W*sin(\\theta_w)/2 - I*\\bar{c}^+*\\phi^+*c^A*g*m_W*cos(\\theta_w)*tan(\\theta_w)/2"
      ]
     },
     "metadata": {},
     "output_type": "display_data"
    },
    {
     "data": {
      "text/latex": [
       "$\\displaystyle \\frac{i \\bar{c}^+ \\phi^{+} c^{Z} g m_{W} \\sin{\\left(\\theta_{w} \\right)} \\tan{\\left(\\theta_{w} \\right)}}{2} - \\frac{i \\bar{c}^+ \\phi^{+} c^{Z} g m_{W} \\cos{\\left(\\theta_{w} \\right)}}{2}$"
      ],
      "text/plain": [
       "I*\\bar{c}^+*\\phi^+*c^Z*g*m_W*sin(\\theta_w)*tan(\\theta_w)/2 - I*\\bar{c}^+*\\phi^+*c^Z*g*m_W*cos(\\theta_w)/2"
      ]
     },
     "metadata": {},
     "output_type": "display_data"
    }
   ],
   "source": [
    "Lpm = L_ghost_goldstone.coeff(_c_p*c_m) * _c_p * c_m\n",
    "LpA = L_ghost_goldstone.coeff(_c_p*c_A) * _c_p * c_A\n",
    "LpZ = L_ghost_goldstone.coeff(_c_p*c_Z) * _c_p * c_Z\n",
    "\n",
    "display(sympy.expand(Lpm.simplify()))\n",
    "display(sympy.expand(LpA.nsimplify()))\n",
    "display(sympy.expand(LpZ.nsimplify()))"
   ]
  },
  {
   "cell_type": "code",
   "execution_count": 12,
   "id": "c857da24",
   "metadata": {},
   "outputs": [
    {
     "data": {
      "text/latex": [
       "$\\displaystyle 0$"
      ],
      "text/plain": [
       "0"
      ]
     },
     "metadata": {},
     "output_type": "display_data"
    },
    {
     "data": {
      "text/latex": [
       "$\\displaystyle \\frac{i \\bar{c}^- \\phi^{-} c^{A} g m_{W} \\sin{\\left(\\theta_{w} \\right)}}{2} + \\frac{i \\bar{c}^- \\phi^{-} c^{A} g m_{W} \\cos{\\left(\\theta_{w} \\right)} \\tan{\\left(\\theta_{w} \\right)}}{2}$"
      ],
      "text/plain": [
       "I*\\bar{c}^-*\\phi^-*c^A*g*m_W*sin(\\theta_w)/2 + I*\\bar{c}^-*\\phi^-*c^A*g*m_W*cos(\\theta_w)*tan(\\theta_w)/2"
      ]
     },
     "metadata": {},
     "output_type": "display_data"
    },
    {
     "data": {
      "text/latex": [
       "$\\displaystyle - \\frac{i \\bar{c}^- \\phi^{-} c^{Z} g m_{W} \\sin{\\left(\\theta_{w} \\right)} \\tan{\\left(\\theta_{w} \\right)}}{2} + \\frac{i \\bar{c}^- \\phi^{-} c^{Z} g m_{W} \\cos{\\left(\\theta_{w} \\right)}}{2}$"
      ],
      "text/plain": [
       "-I*\\bar{c}^-*\\phi^-*c^Z*g*m_W*sin(\\theta_w)*tan(\\theta_w)/2 + I*\\bar{c}^-*\\phi^-*c^Z*g*m_W*cos(\\theta_w)/2"
      ]
     },
     "metadata": {},
     "output_type": "display_data"
    }
   ],
   "source": [
    "Lmp = L_ghost_goldstone.coeff(_c_m*c_p) * _c_m * c_p\n",
    "LmA = L_ghost_goldstone.coeff(_c_m*c_A) * _c_m * c_A\n",
    "LmZ = L_ghost_goldstone.coeff(_c_m*c_Z) * _c_m * c_Z\n",
    "\n",
    "display(sympy.expand(Lmp.simplify()))\n",
    "display(sympy.expand(LmA.nsimplify()))\n",
    "display(sympy.expand(LmZ.nsimplify()))"
   ]
  },
  {
   "cell_type": "code",
   "execution_count": 13,
   "metadata": {},
   "outputs": [
    {
     "data": {
      "text/latex": [
       "$\\displaystyle \\frac{i \\bar{c}^Z \\phi^{-} c^{+} g m_{W} \\sin{\\left(\\theta_{w} \\right)} \\tan{\\left(\\theta_{w} \\right)}}{2} + \\frac{i \\bar{c}^Z \\phi^{-} c^{+} g m_{W} \\cos{\\left(\\theta_{w} \\right)}}{2}$"
      ],
      "text/plain": [
       "I*\\bar{c}^Z*\\phi^-*c^+*g*m_W*sin(\\theta_w)*tan(\\theta_w)/2 + I*\\bar{c}^Z*\\phi^-*c^+*g*m_W*cos(\\theta_w)/2"
      ]
     },
     "metadata": {},
     "output_type": "display_data"
    },
    {
     "data": {
      "text/latex": [
       "$\\displaystyle - \\frac{i \\bar{c}^Z \\phi^{+} c^{-} g m_{W} \\sin{\\left(\\theta_{w} \\right)} \\tan{\\left(\\theta_{w} \\right)}}{2} - \\frac{i \\bar{c}^Z \\phi^{+} c^{-} g m_{W} \\cos{\\left(\\theta_{w} \\right)}}{2}$"
      ],
      "text/plain": [
       "-I*\\bar{c}^Z*\\phi^+*c^-*g*m_W*sin(\\theta_w)*tan(\\theta_w)/2 - I*\\bar{c}^Z*\\phi^+*c^-*g*m_W*cos(\\theta_w)/2"
      ]
     },
     "metadata": {},
     "output_type": "display_data"
    },
    {
     "data": {
      "text/latex": [
       "$\\displaystyle 0$"
      ],
      "text/plain": [
       "0"
      ]
     },
     "metadata": {},
     "output_type": "display_data"
    }
   ],
   "source": [
    "LZp = L_ghost_goldstone.coeff(_c_Z*c_p) * _c_Z * c_p\n",
    "LZm = L_ghost_goldstone.coeff(_c_Z*c_m) * _c_Z * c_m\n",
    "LZA = L_ghost_goldstone.coeff(_c_Z*c_A) * _c_Z * c_A\n",
    "\n",
    "display(sympy.expand(LZp.nsimplify()))\n",
    "display(sympy.expand(LZm.nsimplify()))\n",
    "display(sympy.expand(LZA.simplify()))"
   ]
  },
  {
   "cell_type": "code",
   "execution_count": 14,
   "id": "8be67658",
   "metadata": {},
   "outputs": [
    {
     "data": {
      "text/latex": [
       "$\\displaystyle 0$"
      ],
      "text/plain": [
       "0"
      ]
     },
     "metadata": {},
     "output_type": "display_data"
    },
    {
     "data": {
      "text/latex": [
       "$\\displaystyle 0$"
      ],
      "text/plain": [
       "0"
      ]
     },
     "metadata": {},
     "output_type": "display_data"
    },
    {
     "data": {
      "text/latex": [
       "$\\displaystyle 0$"
      ],
      "text/plain": [
       "0"
      ]
     },
     "metadata": {},
     "output_type": "display_data"
    }
   ],
   "source": [
    "LAp = L_ghost_goldstone.coeff(_c_A*c_p) * _c_A * c_p\n",
    "LAm = L_ghost_goldstone.coeff(_c_A*c_m) * _c_A * c_m\n",
    "LAZ = L_ghost_goldstone.coeff(_c_A*c_Z) * _c_A * c_Z\n",
    "\n",
    "display(sympy.expand(LAp.simplify()))\n",
    "display(sympy.expand(LAm.simplify()))\n",
    "display(sympy.expand(LAZ.simplify()))"
   ]
  },
  {
   "cell_type": "code",
   "execution_count": 15,
   "id": "ce9f4ed6",
   "metadata": {},
   "outputs": [
    {
     "data": {
      "text/latex": [
       "$\\displaystyle \\left[\\begin{matrix}\\bar{c}^+ c^{+} + \\bar{c}^- c^{-} + \\bar{c}^A c^{A} + \\bar{c}^Z c^{Z}\\end{matrix}\\right]$"
      ],
      "text/plain": [
       "Matrix([[\\bar{c}^+*c^+ + \\bar{c}^-*c^- + \\bar{c}^A*c^A + \\bar{c}^Z*c^Z]])"
      ]
     },
     "execution_count": 15,
     "metadata": {},
     "output_type": "execute_result"
    }
   ],
   "source": [
    "sympy.simplify(_c.T * c)"
   ]
  }
 ],
 "metadata": {
  "kernelspec": {
   "display_name": "Python 3 (ipykernel)",
   "language": "python",
   "name": "python3"
  },
  "language_info": {
   "codemirror_mode": {
    "name": "ipython",
    "version": 3
   },
   "file_extension": ".py",
   "mimetype": "text/x-python",
   "name": "python",
   "nbconvert_exporter": "python",
   "pygments_lexer": "ipython3",
   "version": "3.10.9"
  },
  "vscode": {
   "interpreter": {
    "hash": "98882801b34ae69a5e1fda70b951cdf05e22787750fbcb584796ea60a2f84495"
   }
  }
 },
 "nbformat": 4,
 "nbformat_minor": 5
}
