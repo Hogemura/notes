{
 "cells": [
  {
   "attachments": {},
   "cell_type": "markdown",
   "id": "58f8b0ca",
   "metadata": {},
   "source": [
    "# Final Project III (c)"
   ]
  },
  {
   "cell_type": "code",
   "execution_count": 1,
   "id": "e4eabe5a",
   "metadata": {},
   "outputs": [],
   "source": [
    "import sympy"
   ]
  },
  {
   "cell_type": "markdown",
   "id": "5c61916e",
   "metadata": {},
   "source": [
    "量の定義"
   ]
  },
  {
   "cell_type": "code",
   "execution_count": 2,
   "id": "d5f726cf",
   "metadata": {},
   "outputs": [],
   "source": [
    "t, m_q, m_h, x, y = sympy.symbols(\"\\\\theta, m_q, m_h, x, y\", real=True)\n",
    "\n",
    "gamma0 = sympy.Matrix([\n",
    "[0, 0, 1, 0],\n",
    "[0, 0, 0, 1],\n",
    "[1, 0, 0, 0],\n",
    "[0, 1, 0, 0]\n",
    "])\n",
    "\n",
    "gamma1 = sympy.Matrix([\n",
    "[0, 0, 0, 1],\n",
    "[0, 0, 1, 0],\n",
    "[0, -1, 0, 0],\n",
    "[-1, 0, 0, 0]\n",
    "])\n",
    "\n",
    "gamma2 = sympy.Matrix([\n",
    "[0, 0, 0, -1j],\n",
    "[0, 0, 1j, 0],\n",
    "[0, 1j, 0, 0],\n",
    "[-1j, 0, 0, 0]\n",
    "])\n",
    "\n",
    "gamma3 = sympy.Matrix([\n",
    "[0, 0, 1, 0],\n",
    "[0, 0, 0, -1],\n",
    "[-1, 0, 0, 0],\n",
    "[0, 1, 0, 0]\n",
    "])\n",
    "\n",
    "def slashed(vector):\n",
    "    # vector^mu\n",
    "    sl = vector[0] * gamma0 - vector[1] * gamma1 - vector[2] * gamma2 - vector[3] * gamma3\n",
    "    return sl\n",
    "def prod(vec1, vec2):\n",
    "    ip = vec1[0] * vec2[0] - vec1[1] * vec2[1] - vec1[2] * vec2[2] - vec1[3] * vec2[3]\n",
    "    return ip"
   ]
  },
  {
   "attachments": {},
   "cell_type": "markdown",
   "id": "84574aeb",
   "metadata": {},
   "source": [
    "$h$の運動量$p_1^\\mu$，$G_\\mu^a$の運動量$k_1^\\mu$，$G_\\nu^b$の運動量$k_2^\\mu$"
   ]
  },
  {
   "cell_type": "code",
   "execution_count": 3,
   "id": "c8ef1d24",
   "metadata": {},
   "outputs": [],
   "source": [
    "p = sympy.Matrix([m_h, 0, 0, 0])\n",
    "k_1 = sympy.Matrix([m_h/2, m_h/2 * sympy.sin(t), 0, m_h/2 * sympy.cos(t)])\n",
    "k_2 = sympy.Matrix([m_h/2, -m_h/2 * sympy.sin(t), 0, -m_h/2 * sympy.cos(t)])"
   ]
  },
  {
   "attachments": {},
   "cell_type": "markdown",
   "id": "ac50ec99",
   "metadata": {},
   "source": [
    "$G_\\mu^a$の偏極ベクトル$\\epsilon^{\\mu\\ast}_{1\\bullet}$"
   ]
  },
  {
   "cell_type": "code",
   "execution_count": 4,
   "id": "455aa527",
   "metadata": {},
   "outputs": [],
   "source": [
    "e_1Rc = sympy.Matrix([0, sympy.cos(t), -1j, -sympy.sin(t)]) / sympy.sqrt(2)\n",
    "e_1Lc = sympy.Matrix([0, sympy.cos(t), 1j, -sympy.sin(t)]) / sympy.sqrt(2)"
   ]
  },
  {
   "attachments": {},
   "cell_type": "markdown",
   "id": "c01726e5",
   "metadata": {},
   "source": [
    "$G_\\nu^b$の偏極ベクトル$\\epsilon^{\\mu\\ast}_{2\\bullet}$"
   ]
  },
  {
   "cell_type": "code",
   "execution_count": 5,
   "id": "41595bda",
   "metadata": {},
   "outputs": [],
   "source": [
    "e_2Rc = sympy.Matrix([0, -sympy.cos(t), -1j, sympy.sin(t)]) / sympy.sqrt(2)\n",
    "e_2Lc = sympy.Matrix([0, -sympy.cos(t), 1j, sympy.sin(t)]) / sympy.sqrt(2)"
   ]
  },
  {
   "cell_type": "code",
   "execution_count": 6,
   "id": "e6acff9a",
   "metadata": {},
   "outputs": [
    {
     "data": {
      "text/latex": [
       "$\\displaystyle 1$"
      ],
      "text/plain": [
       "1"
      ]
     },
     "metadata": {},
     "output_type": "display_data"
    },
    {
     "data": {
      "text/latex": [
       "$\\displaystyle 0$"
      ],
      "text/plain": [
       "0"
      ]
     },
     "metadata": {},
     "output_type": "display_data"
    },
    {
     "data": {
      "text/latex": [
       "$\\displaystyle 0$"
      ],
      "text/plain": [
       "0"
      ]
     },
     "metadata": {},
     "output_type": "display_data"
    },
    {
     "data": {
      "text/latex": [
       "$\\displaystyle 1$"
      ],
      "text/plain": [
       "1"
      ]
     },
     "metadata": {},
     "output_type": "display_data"
    }
   ],
   "source": [
    "display(sympy.nsimplify(sympy.simplify(prod(e_1Rc, e_2Rc))))\n",
    "display(sympy.nsimplify(sympy.simplify(prod(e_1Rc, e_2Lc))))\n",
    "display(sympy.nsimplify(sympy.simplify(prod(e_1Lc, e_2Rc))))\n",
    "display(sympy.nsimplify(sympy.simplify(prod(e_1Lc, e_2Lc))))"
   ]
  },
  {
   "attachments": {},
   "cell_type": "markdown",
   "id": "1a95612d",
   "metadata": {},
   "source": [
    "分子の定数項(first diagram)"
   ]
  },
  {
   "cell_type": "code",
   "execution_count": 7,
   "id": "6e3e4595",
   "metadata": {},
   "outputs": [],
   "source": [
    "def Num_cons(pol1, pol2):\n",
    "    mat = slashed(pol1) * (-x*slashed(k_1) + y*slashed(k_2)+ m_q*sympy.eye(4)) * slashed(pol2) * (-x*slashed(k_1) - (1-y)*slashed(k_2)+ m_q*sympy.eye(4)) * ((1-x)*slashed(k_1) + y*slashed(k_2)+ m_q*sympy.eye(4))\n",
    "    tr = sympy.trace(mat)\n",
    "    display(sympy.nsimplify(tr.simplify()))"
   ]
  },
  {
   "cell_type": "code",
   "execution_count": 8,
   "id": "056c3d81",
   "metadata": {},
   "outputs": [
    {
     "data": {
      "text/latex": [
       "$\\displaystyle m_{q} \\left(4 m_{h}^{2} x y - 2 m_{h}^{2} + 4 m_{q}^{2}\\right)$"
      ],
      "text/plain": [
       "m_q*(4*m_h**2*x*y - 2*m_h**2 + 4*m_q**2)"
      ]
     },
     "metadata": {},
     "output_type": "display_data"
    },
    {
     "data": {
      "text/latex": [
       "$\\displaystyle 0$"
      ],
      "text/plain": [
       "0"
      ]
     },
     "metadata": {},
     "output_type": "display_data"
    },
    {
     "data": {
      "text/latex": [
       "$\\displaystyle 0$"
      ],
      "text/plain": [
       "0"
      ]
     },
     "metadata": {},
     "output_type": "display_data"
    },
    {
     "data": {
      "text/latex": [
       "$\\displaystyle m_{q} \\left(4 m_{h}^{2} x y - 2 m_{h}^{2} + 4 m_{q}^{2}\\right)$"
      ],
      "text/plain": [
       "m_q*(4*m_h**2*x*y - 2*m_h**2 + 4*m_q**2)"
      ]
     },
     "metadata": {},
     "output_type": "display_data"
    }
   ],
   "source": [
    "Num_cons(e_1Rc, e_2Rc)\n",
    "Num_cons(e_1Rc, e_2Lc)\n",
    "Num_cons(e_1Lc, e_2Rc)\n",
    "Num_cons(e_1Lc, e_2Lc)"
   ]
  },
  {
   "attachments": {},
   "cell_type": "markdown",
   "id": "9c37f2af",
   "metadata": {},
   "source": [
    "分子の定数項(second diagram)"
   ]
  },
  {
   "cell_type": "code",
   "execution_count": 9,
   "id": "159fcb6a",
   "metadata": {},
   "outputs": [],
   "source": [
    "def Num_cons(pol1, pol2):\n",
    "    mat = slashed(pol1) * (x*slashed(k_1) - y*slashed(k_2)+ m_q*sympy.eye(4)) * slashed(pol2) * (x*slashed(k_1) + (1-y)*slashed(k_2)+ m_q*sympy.eye(4)) * (-(1-x)*slashed(k_1) - y*slashed(k_2)+ m_q*sympy.eye(4))\n",
    "    tr = sympy.trace(mat)\n",
    "    display(sympy.nsimplify(tr.simplify()))"
   ]
  },
  {
   "cell_type": "code",
   "execution_count": 10,
   "id": "a8628b3d",
   "metadata": {},
   "outputs": [
    {
     "data": {
      "text/latex": [
       "$\\displaystyle m_{q} \\left(4 m_{h}^{2} x y - 2 m_{h}^{2} + 4 m_{q}^{2}\\right)$"
      ],
      "text/plain": [
       "m_q*(4*m_h**2*x*y - 2*m_h**2 + 4*m_q**2)"
      ]
     },
     "metadata": {},
     "output_type": "display_data"
    },
    {
     "data": {
      "text/latex": [
       "$\\displaystyle 0$"
      ],
      "text/plain": [
       "0"
      ]
     },
     "metadata": {},
     "output_type": "display_data"
    },
    {
     "data": {
      "text/latex": [
       "$\\displaystyle 0$"
      ],
      "text/plain": [
       "0"
      ]
     },
     "metadata": {},
     "output_type": "display_data"
    },
    {
     "data": {
      "text/latex": [
       "$\\displaystyle m_{q} \\left(4 m_{h}^{2} x y - 2 m_{h}^{2} + 4 m_{q}^{2}\\right)$"
      ],
      "text/plain": [
       "m_q*(4*m_h**2*x*y - 2*m_h**2 + 4*m_q**2)"
      ]
     },
     "metadata": {},
     "output_type": "display_data"
    }
   ],
   "source": [
    "Num_cons(e_1Rc, e_2Rc)\n",
    "Num_cons(e_1Rc, e_2Lc)\n",
    "Num_cons(e_1Lc, e_2Rc)\n",
    "Num_cons(e_1Lc, e_2Lc)"
   ]
  }
 ],
 "metadata": {
  "kernelspec": {
   "display_name": "Python 3 (ipykernel)",
   "language": "python",
   "name": "python3"
  },
  "language_info": {
   "codemirror_mode": {
    "name": "ipython",
    "version": 3
   },
   "file_extension": ".py",
   "mimetype": "text/x-python",
   "name": "python",
   "nbconvert_exporter": "python",
   "pygments_lexer": "ipython3",
   "version": "3.10.9"
  },
  "vscode": {
   "interpreter": {
    "hash": "98882801b34ae69a5e1fda70b951cdf05e22787750fbcb584796ea60a2f84495"
   }
  }
 },
 "nbformat": 4,
 "nbformat_minor": 5
}
