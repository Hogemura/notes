{
 "cells": [
  {
   "attachments": {},
   "cell_type": "markdown",
   "id": "58f8b0ca",
   "metadata": {},
   "source": [
    "# Problem 21.2 (RR)"
   ]
  },
  {
   "cell_type": "code",
   "execution_count": 1,
   "id": "e4eabe5a",
   "metadata": {},
   "outputs": [],
   "source": [
    "import sympy"
   ]
  },
  {
   "cell_type": "markdown",
   "id": "5c61916e",
   "metadata": {},
   "source": [
    "量の定義"
   ]
  },
  {
   "cell_type": "code",
   "execution_count": 2,
   "id": "d5f726cf",
   "metadata": {},
   "outputs": [],
   "source": [
    "t, tw, e, m_W, E = sympy.symbols(\"\\\\theta, \\\\theta_w, e, m_W, E\", real=True)\n",
    "p = sympy.sqrt(E**2 - m_W**2)\n",
    "s = 4 * E**2\n",
    "m_Z = m_W / sympy.cos(tw)\n",
    "\n",
    "gamma0 = sympy.Matrix([\n",
    "[0, 0, 1, 0],\n",
    "[0, 0, 0, 1],\n",
    "[1, 0, 0, 0],\n",
    "[0, 1, 0, 0]\n",
    "])\n",
    "\n",
    "gamma1 = sympy.Matrix([\n",
    "[0, 0, 0, 1],\n",
    "[0, 0, 1, 0],\n",
    "[0, -1, 0, 0],\n",
    "[-1, 0, 0, 0]\n",
    "])\n",
    "\n",
    "gamma2 = sympy.Matrix([\n",
    "[0, 0, 0, -1j],\n",
    "[0, 0, 1j, 0],\n",
    "[0, 1j, 0, 0],\n",
    "[-1j, 0, 0, 0]\n",
    "])\n",
    "\n",
    "gamma3 = sympy.Matrix([\n",
    "[0, 0, 1, 0],\n",
    "[0, 0, 0, -1],\n",
    "[-1, 0, 0, 0],\n",
    "[0, 1, 0, 0]\n",
    "])\n",
    "\n",
    "def slashed(vector):\n",
    "    # vector^mu\n",
    "    sl = vector[0] * gamma0 - vector[1] * gamma1 - vector[2] * gamma2 - vector[3] * gamma3\n",
    "    return sl\n",
    "def prod(vec1, vec2):\n",
    "    ip = vec1[0] * vec2[0] - vec1[1] * vec2[1] - vec1[2] * vec2[2] - vec1[3] * vec2[3]\n",
    "    return ip"
   ]
  },
  {
   "cell_type": "markdown",
   "id": "42c51fcd",
   "metadata": {},
   "source": [
    "electron, positronのspinor"
   ]
  },
  {
   "cell_type": "code",
   "execution_count": 3,
   "id": "b2740bf9",
   "metadata": {},
   "outputs": [],
   "source": [
    "u_R = sympy.sqrt(2*E) * sympy.Matrix([0, 0, 1, 0])\n",
    "v_R = sympy.sqrt(2*E) * sympy.Matrix([0, 0, 0, -1])"
   ]
  },
  {
   "cell_type": "markdown",
   "id": "84574aeb",
   "metadata": {},
   "source": [
    "$e^-$の運動量$p_1^\\mu$，$e^+$の運動量$p_2^\\mu$，$W^-$の運動量$k_1^\\mu=k_-^\\mu$，$W^+$の運動量$k_2^\\mu=k_+^\\mu$"
   ]
  },
  {
   "cell_type": "code",
   "execution_count": 4,
   "id": "c8ef1d24",
   "metadata": {},
   "outputs": [],
   "source": [
    "p_1 = sympy.Matrix([E, 0, 0, E])\n",
    "p_2 = sympy.Matrix([E, 0, 0, -E])\n",
    "k_1 = sympy.Matrix([E, p * sympy.sin(t), 0, p * sympy.cos(t)])\n",
    "k_2 = sympy.Matrix([E, -p * sympy.sin(t), 0, -p * sympy.cos(t)])"
   ]
  },
  {
   "cell_type": "markdown",
   "id": "c01726e5",
   "metadata": {},
   "source": [
    "$W^-$の偏極ベクトル$\\epsilon^{\\mu\\ast}_{1\\bullet}$"
   ]
  },
  {
   "cell_type": "code",
   "execution_count": 5,
   "id": "41595bda",
   "metadata": {},
   "outputs": [],
   "source": [
    "e_1Rc = sympy.Matrix([0, sympy.cos(t), -1j, -sympy.sin(t)]) / sympy.sqrt(2)\n",
    "e_1Lc = sympy.Matrix([0, sympy.cos(t), 1j, -sympy.sin(t)]) / sympy.sqrt(2)\n",
    "e_1longc = sympy.Matrix([p, E*sympy.sin(t), 0, E*sympy.cos(t)]) / m_W"
   ]
  },
  {
   "cell_type": "markdown",
   "id": "ac50ec99",
   "metadata": {},
   "source": [
    "$W^+$の偏極ベクトル$\\epsilon^{\\mu\\ast}_{2\\bullet}$"
   ]
  },
  {
   "cell_type": "code",
   "execution_count": 6,
   "id": "455aa527",
   "metadata": {},
   "outputs": [],
   "source": [
    "e_2Rc = sympy.Matrix([0, -sympy.cos(t), -1j, sympy.sin(t)]) / sympy.sqrt(2)\n",
    "e_2Lc = sympy.Matrix([0, -sympy.cos(t), 1j, sympy.sin(t)]) / sympy.sqrt(2)\n",
    "e_2longc = sympy.Matrix([p, -E*sympy.sin(t), 0, -E*sympy.cos(t)]) / m_W"
   ]
  },
  {
   "cell_type": "code",
   "execution_count": 7,
   "id": "6e3e4595",
   "metadata": {},
   "outputs": [],
   "source": [
    "def iM_12a(f, af, pol1, pol2):\n",
    "    coef = - sympy.I * e**2 / s\n",
    "    mat = af.T * gamma0 * (prod(pol1, pol2) * (slashed(k_1 - k_2)) - slashed(pol1) * prod(2*k_1+k_2, pol2) + slashed(pol2) * prod(k_1+2*k_2, pol1)) * f\n",
    "    #\n",
    "    return coef * mat[0, 0]\n",
    "\n",
    "def iM_12b(f, af, pol1, pol2):\n",
    "    coef = sympy.I * e**2 / (s-m_Z**2)\n",
    "    mat = af.T * gamma0 * (prod(pol1, pol2) * (slashed(k_1 - k_2)) - slashed(pol1) * prod(2*k_1+k_2, pol2) + slashed(pol2) * prod(k_1+2*k_2, pol1))* f\n",
    "    #\n",
    "    return coef * mat[0, 0]\n",
    "\n",
    "def dsdc(f, af, pol1, pol2):\n",
    "    iM = iM_12a(f, af, pol1, pol2) + iM_12b(f, af, pol1, pol2)\n",
    "    R = e**4 / (48*sympy.pi * E**2)\n",
    "    dsdc =  sympy.Abs(iM) ** 2 / (64*sympy.pi*E**2 * R)\n",
    "    dsdc = dsdc.subs([(E, 500), (m_W, 80.433), (tw, sympy.asin(sympy.sqrt(0.22290)))])\n",
    "    dsdc = dsdc.simplify()\n",
    "    return dsdc\n",
    "\n",
    "def plot_dsdc(y, label):\n",
    "    return sympy.plotting.plot_parametric(sympy.cos(t), y, (t, 0.1, 3), xlabel=r\"$\\cos\\theta$\", ylabel=r\"$d\\sigma/d\\cos\\theta$\", yscale=\"log\", axis_center=(-1, 0.01), legend=True, label=label, show=False)"
   ]
  },
  {
   "attachments": {},
   "cell_type": "markdown",
   "id": "62c63ac8",
   "metadata": {},
   "source": [
    "$e^-_Re^+_L \\to W^-_RW^+_R$"
   ]
  },
  {
   "cell_type": "code",
   "execution_count": 8,
   "id": "2bf5c99b",
   "metadata": {},
   "outputs": [
    {
     "data": {
      "text/latex": [
       "$\\displaystyle - \\frac{i e^{2} \\sqrt{E^{2} - m_{W}^{2}} \\sin{\\left(\\theta \\right)}}{E}$"
      ],
      "text/plain": [
       "-I*e**2*sqrt(E**2 - m_W**2)*sin(\\theta)/E"
      ]
     },
     "metadata": {},
     "output_type": "display_data"
    },
    {
     "data": {
      "text/latex": [
       "$\\displaystyle \\frac{4 i E e^{2} \\sqrt{E^{2} - m_{W}^{2}} \\sin{\\left(\\theta \\right)} \\cos^{2}{\\left(\\theta_{w} \\right)}}{4 E^{2} \\cos^{2}{\\left(\\theta_{w} \\right)} - m_{W}^{2}}$"
      ],
      "text/plain": [
       "4*I*E*e**2*sqrt(E**2 - m_W**2)*sin(\\theta)*cos(\\theta_w)**2/(4*E**2*cos(\\theta_w)**2 - m_W**2)"
      ]
     },
     "metadata": {},
     "output_type": "display_data"
    }
   ],
   "source": [
    "display(sympy.nsimplify(sympy.simplify(iM_12a(u_R, v_R, e_1Rc, e_2Rc))))\n",
    "display(sympy.nsimplify(sympy.simplify(iM_12b(u_R, v_R, e_1Rc, e_2Rc))))\n",
    "pp = plot_dsdc(dsdc(u_R, v_R, e_1Rc, e_2Rc), r\"$(+, +)$\")"
   ]
  },
  {
   "attachments": {},
   "cell_type": "markdown",
   "id": "53e10503",
   "metadata": {},
   "source": [
    "$e^-_Re^+_L \\to W^-_LW^+_L$"
   ]
  },
  {
   "cell_type": "code",
   "execution_count": 9,
   "id": "aceada43",
   "metadata": {},
   "outputs": [
    {
     "data": {
      "text/latex": [
       "$\\displaystyle - \\frac{i e^{2} \\sqrt{E^{2} - m_{W}^{2}} \\sin{\\left(\\theta \\right)}}{E}$"
      ],
      "text/plain": [
       "-I*e**2*sqrt(E**2 - m_W**2)*sin(\\theta)/E"
      ]
     },
     "metadata": {},
     "output_type": "display_data"
    },
    {
     "data": {
      "text/latex": [
       "$\\displaystyle \\frac{4 i E e^{2} \\sqrt{E^{2} - m_{W}^{2}} \\sin{\\left(\\theta \\right)} \\cos^{2}{\\left(\\theta_{w} \\right)}}{4 E^{2} \\cos^{2}{\\left(\\theta_{w} \\right)} - m_{W}^{2}}$"
      ],
      "text/plain": [
       "4*I*E*e**2*sqrt(E**2 - m_W**2)*sin(\\theta)*cos(\\theta_w)**2/(4*E**2*cos(\\theta_w)**2 - m_W**2)"
      ]
     },
     "metadata": {},
     "output_type": "display_data"
    }
   ],
   "source": [
    "display(sympy.nsimplify(sympy.simplify(iM_12a(u_R, v_R, e_1Lc, e_2Lc))))\n",
    "display(sympy.nsimplify(sympy.simplify(iM_12b(u_R, v_R, e_1Lc, e_2Lc))))\n",
    "mm = plot_dsdc(dsdc(u_R, v_R, e_1Lc, e_2Lc), r\"$(-, -)$\")"
   ]
  },
  {
   "attachments": {},
   "cell_type": "markdown",
   "id": "b4894fa1",
   "metadata": {},
   "source": [
    "$e^-_Re^+_L \\to W^-_RW^+_L$"
   ]
  },
  {
   "cell_type": "code",
   "execution_count": 10,
   "id": "e0e1b8c2",
   "metadata": {},
   "outputs": [
    {
     "data": {
      "text/latex": [
       "$\\displaystyle 0$"
      ],
      "text/plain": [
       "0"
      ]
     },
     "metadata": {},
     "output_type": "display_data"
    },
    {
     "data": {
      "text/latex": [
       "$\\displaystyle 0$"
      ],
      "text/plain": [
       "0"
      ]
     },
     "metadata": {},
     "output_type": "display_data"
    }
   ],
   "source": [
    "display(sympy.nsimplify(sympy.simplify(iM_12a(u_R, v_R, e_1Rc, e_2Lc))))\n",
    "display(sympy.nsimplify(sympy.simplify(iM_12b(u_R, v_R, e_1Rc, e_2Lc))))\n",
    "pm = plot_dsdc(dsdc(u_R, v_R, e_1Rc, e_2Lc), r\"$(+, -)$\")"
   ]
  },
  {
   "attachments": {},
   "cell_type": "markdown",
   "id": "dad335fa",
   "metadata": {},
   "source": [
    "$e^-_Re^+_L \\to W^-_LW^+_R$"
   ]
  },
  {
   "cell_type": "code",
   "execution_count": 11,
   "id": "28e92837",
   "metadata": {},
   "outputs": [
    {
     "data": {
      "text/latex": [
       "$\\displaystyle 0$"
      ],
      "text/plain": [
       "0"
      ]
     },
     "metadata": {},
     "output_type": "display_data"
    },
    {
     "data": {
      "text/latex": [
       "$\\displaystyle 0$"
      ],
      "text/plain": [
       "0"
      ]
     },
     "metadata": {},
     "output_type": "display_data"
    }
   ],
   "source": [
    "display(sympy.nsimplify(sympy.simplify(iM_12a(u_R, v_R, e_1Lc, e_2Rc))))\n",
    "display(sympy.nsimplify(sympy.simplify(iM_12b(u_R, v_R, e_1Lc, e_2Rc))))\n",
    "mp = plot_dsdc(dsdc(u_R, v_R, e_1Lc, e_2Rc), r\"$(-, +)$\")"
   ]
  },
  {
   "attachments": {},
   "cell_type": "markdown",
   "id": "d84af6b2",
   "metadata": {},
   "source": [
    "$e^-_Re^+_L \\to W^-_LW^+_\\text{ln} + W^-_\\text{ln}W^+_R$"
   ]
  },
  {
   "cell_type": "code",
   "execution_count": 12,
   "id": "d7624a54",
   "metadata": {},
   "outputs": [
    {
     "data": {
      "text/latex": [
       "$\\displaystyle \\frac{2 \\sqrt{2} i e^{2} \\sqrt{E^{2} - m_{W}^{2}} \\left(\\cos{\\left(\\theta \\right)} - 1\\right)}{m_{W}}$"
      ],
      "text/plain": [
       "2*sqrt(2)*I*e**2*sqrt(E**2 - m_W**2)*(cos(\\theta) - 1)/m_W"
      ]
     },
     "metadata": {},
     "output_type": "display_data"
    },
    {
     "data": {
      "text/latex": [
       "$\\displaystyle \\frac{\\sqrt{2} i E^{2} e^{2} \\cdot \\left(8 - 8 \\cos{\\left(\\theta \\right)}\\right) \\sqrt{E^{2} - m_{W}^{2}} \\cos^{2}{\\left(\\theta_{w} \\right)}}{m_{W} \\left(4 E^{2} \\cos^{2}{\\left(\\theta_{w} \\right)} - m_{W}^{2}\\right)}$"
      ],
      "text/plain": [
       "sqrt(2)*I*E**2*e**2*(8 - 8*cos(\\theta))*sqrt(E**2 - m_W**2)*cos(\\theta_w)**2/(m_W*(4*E**2*cos(\\theta_w)**2 - m_W**2))"
      ]
     },
     "metadata": {},
     "output_type": "display_data"
    }
   ],
   "source": [
    "display(sympy.nsimplify(sympy.simplify(iM_12a(u_R, v_R, e_1Lc, e_2longc) + iM_12a(u_R, v_R, e_1longc, e_2Rc))))\n",
    "display(sympy.nsimplify(sympy.simplify(iM_12b(u_R, v_R, e_1Lc, e_2longc) + iM_12b(u_R, v_R, e_1longc, e_2Rc))))\n",
    "mzzp = plot_dsdc(dsdc(u_R, v_R, e_1Lc, e_2longc) + dsdc(u_R, v_R, e_1longc, e_2Rc), r\"$(-, 0)+(0, +)$\")"
   ]
  },
  {
   "attachments": {},
   "cell_type": "markdown",
   "id": "6ecc9a47",
   "metadata": {},
   "source": [
    "$e^-_Re^+_L \\to W^-_RW^+_\\text{ln} + W^-_\\text{ln}W^+_L $"
   ]
  },
  {
   "cell_type": "code",
   "execution_count": 13,
   "id": "666ca773",
   "metadata": {},
   "outputs": [
    {
     "data": {
      "text/latex": [
       "$\\displaystyle \\frac{2 \\sqrt{2} i e^{2} \\sqrt{E^{2} - m_{W}^{2}} \\left(\\cos{\\left(\\theta \\right)} + 1\\right)}{m_{W}}$"
      ],
      "text/plain": [
       "2*sqrt(2)*I*e**2*sqrt(E**2 - m_W**2)*(cos(\\theta) + 1)/m_W"
      ]
     },
     "metadata": {},
     "output_type": "display_data"
    },
    {
     "data": {
      "text/latex": [
       "$\\displaystyle - \\frac{8 \\sqrt{2} i E^{2} e^{2} \\sqrt{E^{2} - m_{W}^{2}} \\left(\\cos{\\left(\\theta \\right)} + 1\\right) \\cos^{2}{\\left(\\theta_{w} \\right)}}{m_{W} \\left(4 E^{2} \\cos^{2}{\\left(\\theta_{w} \\right)} - m_{W}^{2}\\right)}$"
      ],
      "text/plain": [
       "-8*sqrt(2)*I*E**2*e**2*sqrt(E**2 - m_W**2)*(cos(\\theta) + 1)*cos(\\theta_w)**2/(m_W*(4*E**2*cos(\\theta_w)**2 - m_W**2))"
      ]
     },
     "metadata": {},
     "output_type": "display_data"
    }
   ],
   "source": [
    "display(sympy.nsimplify(sympy.simplify(iM_12a(u_R, v_R, e_1Rc, e_2longc) + iM_12a(u_R, v_R, e_1longc, e_2Lc))))\n",
    "display(sympy.nsimplify(sympy.simplify(iM_12b(u_R, v_R, e_1Rc, e_2longc) + iM_12b(u_R, v_R, e_1longc, e_2Lc))))\n",
    "zmpz = plot_dsdc(dsdc(u_R, v_R, e_1Rc, e_2longc) + dsdc(u_R, v_R, e_1longc, e_2Lc), r\"$(+, 0)+(0, -)$\")"
   ]
  },
  {
   "attachments": {},
   "cell_type": "markdown",
   "id": "172f88e0",
   "metadata": {},
   "source": [
    "$e^-_Re^+_L \\to W^-_\\text{ln}W^+_\\text{ln}$"
   ]
  },
  {
   "cell_type": "code",
   "execution_count": 14,
   "id": "35784b6f",
   "metadata": {},
   "outputs": [
    {
     "data": {
      "text/latex": [
       "$\\displaystyle \\frac{i e^{2} \\sqrt{E^{2} - m_{W}^{2}} \\cdot \\left(2 E^{2} + m_{W}^{2}\\right) \\sin{\\left(\\theta \\right)}}{E m_{W}^{2}}$"
      ],
      "text/plain": [
       "I*e**2*sqrt(E**2 - m_W**2)*(2*E**2 + m_W**2)*sin(\\theta)/(E*m_W**2)"
      ]
     },
     "metadata": {},
     "output_type": "display_data"
    },
    {
     "data": {
      "text/latex": [
       "$\\displaystyle \\frac{4 i E e^{2} \\left(- 2 E^{2} - m_{W}^{2}\\right) \\sqrt{E^{2} - m_{W}^{2}} \\sin{\\left(\\theta \\right)} \\cos^{2}{\\left(\\theta_{w} \\right)}}{m_{W}^{2} \\cdot \\left(4 E^{2} \\cos^{2}{\\left(\\theta_{w} \\right)} - m_{W}^{2}\\right)}$"
      ],
      "text/plain": [
       "4*I*E*e**2*(-2*E**2 - m_W**2)*sqrt(E**2 - m_W**2)*sin(\\theta)*cos(\\theta_w)**2/(m_W**2*(4*E**2*cos(\\theta_w)**2 - m_W**2))"
      ]
     },
     "metadata": {},
     "output_type": "display_data"
    }
   ],
   "source": [
    "display(sympy.nsimplify(sympy.simplify(iM_12a(u_R, v_R, e_1longc, e_2longc))))\n",
    "display(sympy.nsimplify(sympy.simplify(iM_12b(u_R, v_R, e_1longc, e_2longc))))\n",
    "zz = plot_dsdc(dsdc(u_R, v_R, e_1longc, e_2longc), r\"$(0, 0)$\")"
   ]
  },
  {
   "cell_type": "code",
   "execution_count": 15,
   "id": "7cb4d4a9",
   "metadata": {},
   "outputs": [
    {
     "data": {
      "image/png": "[encoded data removed]",
      "text/plain": [
       "<Figure size 640x480 with 1 Axes>"
      ]
     },
     "metadata": {},
     "output_type": "display_data"
    }
   ],
   "source": [
    "zz.extend(pm)\n",
    "zz.extend(mp)\n",
    "zz.extend(mzzp)\n",
    "zz.extend(zmpz)\n",
    "zz.show()"
   ]
  }
 ],
 "metadata": {
  "kernelspec": {
   "display_name": "Python 3 (ipykernel)",
   "language": "python",
   "name": "python3"
  },
  "language_info": {
   "codemirror_mode": {
    "name": "ipython",
    "version": 3
   },
   "file_extension": ".py",
   "mimetype": "text/x-python",
   "name": "python",
   "nbconvert_exporter": "python",
   "pygments_lexer": "ipython3",
   "version": "3.10.9"
  },
  "vscode": {
   "interpreter": {
    "hash": "98882801b34ae69a5e1fda70b951cdf05e22787750fbcb584796ea60a2f84495"
   }
  }
 },
 "nbformat": 4,
 "nbformat_minor": 5
}
