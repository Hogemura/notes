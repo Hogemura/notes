{
 "cells": [
  {
   "cell_type": "markdown",
   "id": "58f8b0ca",
   "metadata": {},
   "source": [
    "# Problem 21.3: Cross section for $d\\bar{u} \\to W^- \\gamma$."
   ]
  },
  {
   "cell_type": "code",
   "execution_count": 1,
   "id": "e4eabe5a",
   "metadata": {},
   "outputs": [],
   "source": [
    "import sympy"
   ]
  },
  {
   "cell_type": "markdown",
   "id": "5c61916e",
   "metadata": {},
   "source": [
    "量の定義"
   ]
  },
  {
   "cell_type": "code",
   "execution_count": 2,
   "id": "d5f726cf",
   "metadata": {},
   "outputs": [],
   "source": [
    "t, tw, e, m_W, E = sympy.symbols(\"\\\\theta, \\\\theta_w, e, m_W, E\", real=True)\n",
    "g = e / sympy.sin(tw)\n",
    "p = E - m_W**2 / (4*E)\n",
    "\n",
    "gamma0 = sympy.Matrix([\n",
    "[0, 0, 1, 0],\n",
    "[0, 0, 0, 1],\n",
    "[1, 0, 0, 0],\n",
    "[0, 1, 0, 0]\n",
    "])\n",
    "\n",
    "gamma1 = sympy.Matrix([\n",
    "[0, 0, 0, 1],\n",
    "[0, 0, 1, 0],\n",
    "[0, -1, 0, 0],\n",
    "[-1, 0, 0, 0]\n",
    "])\n",
    "\n",
    "gamma2 = sympy.Matrix([\n",
    "[0, 0, 0, -1j],\n",
    "[0, 0, 1j, 0],\n",
    "[0, 1j, 0, 0],\n",
    "[-1j, 0, 0, 0]\n",
    "])\n",
    "\n",
    "gamma3 = sympy.Matrix([\n",
    "[0, 0, 1, 0],\n",
    "[0, 0, 0, -1],\n",
    "[-1, 0, 0, 0],\n",
    "[0, 1, 0, 0]\n",
    "])\n",
    "\n",
    "gamma5 = sympy.I * gamma0 * gamma1 * gamma2 * gamma3\n",
    "\n",
    "def slashed(vector):\n",
    "    # vector^mu\n",
    "    sl = vector[0] * gamma0 - vector[1] * gamma1 - vector[2] * gamma2 - vector[3] * gamma3\n",
    "    return sl\n",
    "def prod(vec1, vec2):\n",
    "    ip = vec1[0] * vec2[0] - vec1[1] * vec2[1] - vec1[2] * vec2[2] - vec1[3] * vec2[3]\n",
    "    return ip"
   ]
  },
  {
   "cell_type": "markdown",
   "id": "42c51fcd",
   "metadata": {},
   "source": [
    "down quark, up antiquarkのspinor"
   ]
  },
  {
   "cell_type": "code",
   "execution_count": 3,
   "id": "b2740bf9",
   "metadata": {},
   "outputs": [],
   "source": [
    "u_L = sympy.sqrt(2*E) * sympy.Matrix([0, 1, 0, 0])\n",
    "v_L = sympy.sqrt(2*E) * sympy.Matrix([1, 0, 0, 0])"
   ]
  },
  {
   "cell_type": "markdown",
   "id": "84574aeb",
   "metadata": {},
   "source": [
    "$d$の運動量$p_1^\\mu$，$\\bar{u}$の運動量$p_2^\\mu$，$\\gamma$の運動量$k_1^\\mu$，$W^-$の運動量$k_2^\\mu$"
   ]
  },
  {
   "cell_type": "code",
   "execution_count": 4,
   "id": "c8ef1d24",
   "metadata": {},
   "outputs": [],
   "source": [
    "p_1 = sympy.Matrix([E, 0, 0, E])\n",
    "p_2 = sympy.Matrix([E, 0, 0, -E])\n",
    "k_1 = sympy.Matrix([p, p * sympy.sin(t), 0, p * sympy.cos(t)])\n",
    "k_2 = sympy.Matrix([2*E-p, -p * sympy.sin(t), 0, -p * sympy.cos(t)])"
   ]
  },
  {
   "cell_type": "markdown",
   "id": "ac50ec99",
   "metadata": {},
   "source": [
    "$\\gamma$の偏極ベクトル$\\epsilon^{\\mu\\ast}_{1\\bullet}$"
   ]
  },
  {
   "cell_type": "code",
   "execution_count": 5,
   "id": "455aa527",
   "metadata": {},
   "outputs": [],
   "source": [
    "e_1Rc = sympy.Matrix([0, sympy.cos(t), -1j, -sympy.sin(t)]) / sympy.sqrt(2)\n",
    "e_1Lc = sympy.Matrix([0, sympy.cos(t), 1j, -sympy.sin(t)]) / sympy.sqrt(2)"
   ]
  },
  {
   "cell_type": "markdown",
   "id": "c01726e5",
   "metadata": {},
   "source": [
    "$W^-$の偏極ベクトル$\\epsilon^{\\mu\\ast}_{2\\bullet}$"
   ]
  },
  {
   "cell_type": "code",
   "execution_count": 6,
   "id": "41595bda",
   "metadata": {},
   "outputs": [],
   "source": [
    "e_2Rc = sympy.Matrix([0, -sympy.cos(t), -1j, sympy.sin(t)]) / sympy.sqrt(2)\n",
    "e_2Lc = sympy.Matrix([0, -sympy.cos(t), 1j, sympy.sin(t)]) / sympy.sqrt(2)\n",
    "e_2longc = sympy.Matrix([p, -(2*E-p)*sympy.sin(t), 0, -(2*E-p)*sympy.cos(t)]) / m_W"
   ]
  },
  {
   "cell_type": "code",
   "execution_count": 7,
   "id": "6e3e4595",
   "metadata": {},
   "outputs": [],
   "source": [
    "def iM_1(f, af, pol1, pol2):\n",
    "    # t-channel\n",
    "    coef = sympy.I * e * g / (3 * sympy.sqrt(2) * prod(p_1-k_1, p_1-k_1))\n",
    "    mat = af.T * gamma0 * slashed(pol2) * ((sympy.eye(4)-gamma5)/2) * slashed(p_1-k_1) * slashed(pol1) * f\n",
    "    #\n",
    "    return coef * mat[0, 0]\n",
    "\n",
    "def iM_2(f, af, pol1, pol2):\n",
    "    # u-channel\n",
    "    coef = - 2 * sympy.I * e * g / (3 * sympy.sqrt(2) * prod(p_1-k_2, p_1-k_2))\n",
    "    mat = af.T * gamma0 * slashed(pol1) * slashed(p_1-k_2) * slashed(pol2) * ((sympy.eye(4)-gamma5)/2) * f\n",
    "    #\n",
    "    return coef * mat[0, 0]\n",
    "\n",
    "def iM_3(f, af, pol1, pol2):\n",
    "    # s-channel\n",
    "    coef = sympy.I * e * g / (sympy.sqrt(2) * (prod(p_1+p_2, p_1+p_2) - m_W**2))\n",
    "    mat = af.T * gamma0 * (slashed(pol2) * prod(k_1+2*k_2, pol1) + prod(pol1, pol2) * slashed(k_1 - k_2) - slashed(pol1) * prod(2*k_1+k_2, pol2)) * ((sympy.eye(4)-gamma5)/2) * f\n",
    "    #\n",
    "    return coef * mat[0, 0]\n",
    "\n",
    "def iM(f, af, pol1, pol2):\n",
    "    return iM_1(f, af, pol1, pol2) + iM_2(f, af, pol1, pol2) + iM_3(f, af, pol1, pol2)"
   ]
  },
  {
   "attachments": {},
   "cell_type": "markdown",
   "id": "62c63ac8",
   "metadata": {},
   "source": [
    "$d_L\\bar{u}_R \\to \\gamma_RW^-_R$"
   ]
  },
  {
   "cell_type": "code",
   "execution_count": 8,
   "id": "2bf5c99b",
   "metadata": {},
   "outputs": [
    {
     "data": {
      "text/latex": [
       "$\\displaystyle - \\frac{\\sqrt{2} i e^{2} m_{W}^{2} \\cdot \\left(3 \\cos{\\left(\\theta \\right)} - 1\\right) \\sin{\\left(\\theta \\right)}}{6 \\cdot \\left(2 E - m_{W}\\right) \\left(2 E + m_{W}\\right) \\left(\\cos{\\left(\\theta \\right)} - 1\\right) \\sin{\\left(\\theta_{w} \\right)}}$"
      ],
      "text/plain": [
       "-sqrt(2)*I*e**2*m_W**2*(3*cos(\\theta) - 1)*sin(\\theta)/(6*(2*E - m_W)*(2*E + m_W)*(cos(\\theta) - 1)*sin(\\theta_w))"
      ]
     },
     "metadata": {},
     "output_type": "display_data"
    }
   ],
   "source": [
    "# display(sympy.nsimplify(sympy.simplify(iM_1(u_L, v_L, e_1Rc, e_2Rc))))\n",
    "# display(sympy.nsimplify(sympy.simplify(iM_2(u_L, v_L, e_1Rc, e_2Rc))))\n",
    "# display(sympy.nsimplify(sympy.simplify(iM_3(u_L, v_L, e_1Rc, e_2Rc))))\n",
    "iM_RR = sympy.factor(sympy.simplify(sympy.nsimplify(iM(u_L, v_L, e_1Rc, e_2Rc))))\n",
    "display(iM_RR)"
   ]
  },
  {
   "attachments": {},
   "cell_type": "markdown",
   "id": "53e10503",
   "metadata": {},
   "source": [
    "$d_L\\bar{u}_R \\to \\gamma_LW^-_L$"
   ]
  },
  {
   "cell_type": "code",
   "execution_count": 9,
   "id": "aceada43",
   "metadata": {},
   "outputs": [
    {
     "data": {
      "text/latex": [
       "$\\displaystyle - \\frac{\\sqrt{2} i e^{2} m_{W}^{2} \\cdot \\left(3 \\cos{\\left(\\theta \\right)} - 1\\right) \\sin{\\left(\\theta \\right)}}{6 \\cdot \\left(2 E - m_{W}\\right) \\left(2 E + m_{W}\\right) \\left(\\cos{\\left(\\theta \\right)} + 1\\right) \\sin{\\left(\\theta_{w} \\right)}}$"
      ],
      "text/plain": [
       "-sqrt(2)*I*e**2*m_W**2*(3*cos(\\theta) - 1)*sin(\\theta)/(6*(2*E - m_W)*(2*E + m_W)*(cos(\\theta) + 1)*sin(\\theta_w))"
      ]
     },
     "metadata": {},
     "output_type": "display_data"
    }
   ],
   "source": [
    "# display(sympy.nsimplify(sympy.simplify(iM_1(u_L, v_L, e_1Lc, e_2Lc))))\n",
    "# display(sympy.nsimplify(sympy.simplify(iM_2(u_L, v_L, e_1Lc, e_2Lc))))\n",
    "# display(sympy.nsimplify(sympy.simplify(iM_3(u_L, v_L, e_1Lc, e_2Lc))))\n",
    "iM_LL = sympy.factor(sympy.simplify(sympy.nsimplify(iM(u_L, v_L, e_1Lc, e_2Lc))))\n",
    "display(iM_LL)"
   ]
  },
  {
   "attachments": {},
   "cell_type": "markdown",
   "id": "b4894fa1",
   "metadata": {},
   "source": [
    "$d_L\\bar{u}_R \\to \\gamma_RW^-_L$"
   ]
  },
  {
   "cell_type": "code",
   "execution_count": 10,
   "id": "e0e1b8c2",
   "metadata": {},
   "outputs": [
    {
     "data": {
      "text/latex": [
       "$\\displaystyle - \\frac{2 \\sqrt{2} i E^{2} e^{2} \\cdot \\left(3 \\cos{\\left(\\theta \\right)} - 1\\right) \\sin{\\left(\\theta \\right)}}{3 \\cdot \\left(2 E - m_{W}\\right) \\left(2 E + m_{W}\\right) \\left(\\cos{\\left(\\theta \\right)} + 1\\right) \\sin{\\left(\\theta_{w} \\right)}}$"
      ],
      "text/plain": [
       "-2*sqrt(2)*I*E**2*e**2*(3*cos(\\theta) - 1)*sin(\\theta)/(3*(2*E - m_W)*(2*E + m_W)*(cos(\\theta) + 1)*sin(\\theta_w))"
      ]
     },
     "metadata": {},
     "output_type": "display_data"
    }
   ],
   "source": [
    "# display(sympy.nsimplify(sympy.simplify(iM_1(u_L, v_L, e_1Rc, e_2Lc))))\n",
    "# display(sympy.nsimplify(sympy.simplify(iM_2(u_L, v_L, e_1Rc, e_2Lc))))\n",
    "# display(sympy.nsimplify(sympy.simplify(iM_3(u_L, v_L, e_1Rc, e_2Lc))))\n",
    "iM_RL = sympy.factor(sympy.simplify(sympy.nsimplify(iM(u_L, v_L, e_1Rc, e_2Lc))))\n",
    "display(iM_RL)"
   ]
  },
  {
   "attachments": {},
   "cell_type": "markdown",
   "id": "dad335fa",
   "metadata": {},
   "source": [
    "$d_L\\bar{u}_R \\to \\gamma_LW^-_R$"
   ]
  },
  {
   "cell_type": "code",
   "execution_count": 11,
   "id": "28e92837",
   "metadata": {},
   "outputs": [
    {
     "data": {
      "text/latex": [
       "$\\displaystyle - \\frac{2 \\sqrt{2} i E^{2} e^{2} \\cdot \\left(3 \\cos{\\left(\\theta \\right)} - 1\\right) \\sin{\\left(\\theta \\right)}}{3 \\cdot \\left(2 E - m_{W}\\right) \\left(2 E + m_{W}\\right) \\left(\\cos{\\left(\\theta \\right)} - 1\\right) \\sin{\\left(\\theta_{w} \\right)}}$"
      ],
      "text/plain": [
       "-2*sqrt(2)*I*E**2*e**2*(3*cos(\\theta) - 1)*sin(\\theta)/(3*(2*E - m_W)*(2*E + m_W)*(cos(\\theta) - 1)*sin(\\theta_w))"
      ]
     },
     "metadata": {},
     "output_type": "display_data"
    }
   ],
   "source": [
    "# display(sympy.nsimplify(sympy.simplify(iM_1(u_L, v_L, e_1Lc, e_2Rc))))\n",
    "# display(sympy.nsimplify(sympy.simplify(iM_2(u_L, v_L, e_1Lc, e_2Rc))))\n",
    "# display(sympy.nsimplify(sympy.simplify(iM_3(u_L, v_L, e_1Lc, e_2Rc))))\n",
    "iM_LR = sympy.factor(sympy.simplify(sympy.nsimplify(iM(u_L, v_L, e_1Lc, e_2Rc))))\n",
    "display(iM_LR)"
   ]
  },
  {
   "attachments": {},
   "cell_type": "markdown",
   "id": "d84af6b2",
   "metadata": {},
   "source": [
    "$d_L\\bar{u}_R \\to \\gamma_RW^-_\\text{ln}$"
   ]
  },
  {
   "cell_type": "code",
   "execution_count": 12,
   "id": "d7624a54",
   "metadata": {},
   "outputs": [
    {
     "data": {
      "text/latex": [
       "$\\displaystyle \\frac{2 i E e^{2} m_{W} \\left(3 \\cos{\\left(\\theta \\right)} - 1\\right)}{3 \\cdot \\left(2 E - m_{W}\\right) \\left(2 E + m_{W}\\right) \\sin{\\left(\\theta_{w} \\right)}}$"
      ],
      "text/plain": [
       "2*I*E*e**2*m_W*(3*cos(\\theta) - 1)/(3*(2*E - m_W)*(2*E + m_W)*sin(\\theta_w))"
      ]
     },
     "metadata": {},
     "output_type": "display_data"
    }
   ],
   "source": [
    "# display(sympy.nsimplify(sympy.simplify(iM_1(u_L, v_L, e_1Rc, e_2longc))))\n",
    "# display(sympy.nsimplify(sympy.simplify(iM_2(u_L, v_L, e_1Rc, e_2longc))))\n",
    "# display(sympy.nsimplify(sympy.simplify(iM_3(u_L, v_L, e_1Rc, e_2longc))))\n",
    "iM_Rl = sympy.factor(sympy.nsimplify(sympy.simplify(iM(u_L, v_L, e_1Rc, e_2longc))))\n",
    "display(iM_Rl)"
   ]
  },
  {
   "attachments": {},
   "cell_type": "markdown",
   "id": "6ecc9a47",
   "metadata": {},
   "source": [
    "$d_L\\bar{u}_R \\to \\gamma_LW^-_\\text{ln}$"
   ]
  },
  {
   "cell_type": "code",
   "execution_count": 13,
   "id": "666ca773",
   "metadata": {},
   "outputs": [
    {
     "data": {
      "text/latex": [
       "$\\displaystyle \\frac{2 i E e^{2} m_{W} \\left(3 \\cos{\\left(\\theta \\right)} - 1\\right)}{3 \\cdot \\left(2 E - m_{W}\\right) \\left(2 E + m_{W}\\right) \\sin{\\left(\\theta_{w} \\right)}}$"
      ],
      "text/plain": [
       "2*I*E*e**2*m_W*(3*cos(\\theta) - 1)/(3*(2*E - m_W)*(2*E + m_W)*sin(\\theta_w))"
      ]
     },
     "metadata": {},
     "output_type": "display_data"
    }
   ],
   "source": [
    "# display(sympy.nsimplify(sympy.simplify(iM_1(u_L, v_L, e_1Lc, e_2longc))))\n",
    "# display(sympy.nsimplify(sympy.simplify(iM_2(u_L, v_L, e_1Lc, e_2longc))))\n",
    "# display(sympy.nsimplify(sympy.simplify(iM_3(u_L, v_L, e_1Lc, e_2longc))))\n",
    "iM_Ll = sympy.factor(sympy.nsimplify(sympy.simplify(iM(u_L, v_L, e_1Lc, e_2longc))))\n",
    "display(iM_Ll)"
   ]
  },
  {
   "attachments": {},
   "cell_type": "markdown",
   "id": "7a198e4f",
   "metadata": {},
   "source": [
    "$\\sum d\\sigma/d\\cos\\theta$"
   ]
  },
  {
   "cell_type": "code",
   "execution_count": 14,
   "id": "1e21a77d",
   "metadata": {},
   "outputs": [
    {
     "data": {
      "text/latex": [
       "$\\displaystyle - \\frac{e^{4} \\left(3 \\cos{\\left(\\theta \\right)} - 1\\right)^{2} \\cdot \\left(16 E^{4} \\sin^{2}{\\left(\\theta \\right)} - 32 E^{4} - 8 E^{2} m_{W}^{2} \\sin^{2}{\\left(\\theta \\right)} + m_{W}^{4} \\sin^{2}{\\left(\\theta \\right)} - 2 m_{W}^{4}\\right)}{2304 \\pi E^{4} \\cdot \\left(2 E - m_{W}\\right) \\left(2 E + m_{W}\\right) \\sin^{2}{\\left(\\theta \\right)} \\sin^{2}{\\left(\\theta_{w} \\right)}}$"
      ],
      "text/plain": [
       "-e**4*(3*cos(\\theta) - 1)**2*(16*E**4*sin(\\theta)**2 - 32*E**4 - 8*E**2*m_W**2*sin(\\theta)**2 + m_W**4*sin(\\theta)**2 - 2*m_W**4)/(2304*pi*E**4*(2*E - m_W)*(2*E + m_W)*sin(\\theta)**2*sin(\\theta_w)**2)"
      ]
     },
     "metadata": {},
     "output_type": "display_data"
    }
   ],
   "source": [
    "s_RR = (iM_RR * sympy.conjugate(iM_RR)) * p / (64*sympy.pi*E**3)\n",
    "s_LL = (iM_LL * sympy.conjugate(iM_LL)) * p / (64*sympy.pi*E**3)\n",
    "s_RL = (iM_RL * sympy.conjugate(iM_RL)) * p / (64*sympy.pi*E**3)\n",
    "s_LR = (iM_LR * sympy.conjugate(iM_LR)) * p / (64*sympy.pi*E**3)\n",
    "s_Rl = (iM_Rl * sympy.conjugate(iM_Rl)) * p / (64*sympy.pi*E**3)\n",
    "s_Ll = (iM_Ll * sympy.conjugate(iM_Ll)) * p / (64*sympy.pi*E**3)\n",
    "S = s_RR + s_LL + s_RL + s_LR + s_Rl + s_Ll\n",
    "display(sympy.factor(S.simplify()))"
   ]
  }
 ],
 "metadata": {
  "kernelspec": {
   "display_name": "Python 3 (ipykernel)",
   "language": "python",
   "name": "python3"
  },
  "language_info": {
   "codemirror_mode": {
    "name": "ipython",
    "version": 3
   },
   "file_extension": ".py",
   "mimetype": "text/x-python",
   "name": "python",
   "nbconvert_exporter": "python",
   "pygments_lexer": "ipython3",
   "version": "3.10.9"
  },
  "vscode": {
   "interpreter": {
    "hash": "98882801b34ae69a5e1fda70b951cdf05e22787750fbcb584796ea60a2f84495"
   }
  }
 },
 "nbformat": 4,
 "nbformat_minor": 5
}
